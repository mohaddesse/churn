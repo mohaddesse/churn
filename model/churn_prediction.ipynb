{
 "cells": [
  {
   "cell_type": "markdown",
   "id": "faf7440b",
   "metadata": {},
   "source": [
    "<b> Churn rate</b> is a measure of the number of customers or employees who leave a company during a given period. It can also refer to the amount of revenue lost as a result of the departures. Changes in a business's churn rate can provide valuable insight into an organization."
   ]
  },
  {
   "cell_type": "code",
   "execution_count": null,
   "id": "84dabeff",
   "metadata": {},
   "outputs": [],
   "source": []
  }
 ],
 "metadata": {
  "kernelspec": {
   "display_name": "Python 3 (ipykernel)",
   "language": "python",
   "name": "python3"
  },
  "language_info": {
   "codemirror_mode": {
    "name": "ipython",
    "version": 3
   },
   "file_extension": ".py",
   "mimetype": "text/x-python",
   "name": "python",
   "nbconvert_exporter": "python",
   "pygments_lexer": "ipython3",
   "version": "3.10.6"
  }
 },
 "nbformat": 4,
 "nbformat_minor": 5
}
